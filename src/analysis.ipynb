{
 "cells": [
  {
   "cell_type": "code",
   "execution_count": 1,
   "metadata": {},
   "outputs": [
    {
     "data": {
      "text/plain": [
       "{'product_code': 'BTC_JPY',\n",
       " 'state': 'RUNNING',\n",
       " 'timestamp': '2022-12-03T17:45:48.377',\n",
       " 'tick_id': 6220011,\n",
       " 'best_bid': 2287460.0,\n",
       " 'best_ask': 2288955.0,\n",
       " 'best_bid_size': 0.44953646,\n",
       " 'best_ask_size': 0.01,\n",
       " 'total_bid_depth': 788.73021493,\n",
       " 'total_ask_depth': 398.36351525,\n",
       " 'market_bid_size': 0.0,\n",
       " 'market_ask_size': 0.0,\n",
       " 'ltp': 2288802.0,\n",
       " 'volume': 3031.37596658,\n",
       " 'volume_by_product': 513.46853291}"
      ]
     },
     "execution_count": 1,
     "metadata": {},
     "output_type": "execute_result"
    }
   ],
   "source": [
    "import json\n",
    "import urllib.request\n",
    "\n",
    "\n",
    "with urllib.request.urlopen(\"https://api.bitflyer.com/v1/ticker\") as resp:\n",
    "    data = json.load(resp)\n",
    "\n",
    "data"
   ]
  }
 ],
 "metadata": {
  "kernelspec": {
   "display_name": "Python 3.11.0 ('.venv': poetry)",
   "language": "python",
   "name": "python3"
  },
  "language_info": {
   "codemirror_mode": {
    "name": "ipython",
    "version": 3
   },
   "file_extension": ".py",
   "mimetype": "text/x-python",
   "name": "python",
   "nbconvert_exporter": "python",
   "pygments_lexer": "ipython3",
   "version": "3.11.0"
  },
  "orig_nbformat": 4,
  "vscode": {
   "interpreter": {
    "hash": "4e7834ccc2131d00366af81ab763477b84d3ce34a872e2a92df7ac9e2fda7c2b"
   }
  }
 },
 "nbformat": 4,
 "nbformat_minor": 2
}
